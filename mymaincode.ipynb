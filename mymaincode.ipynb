{
  "nbformat": 4,
  "nbformat_minor": 0,
  "metadata": {
    "colab": {
      "provenance": [],
      "include_colab_link": true
    },
    "kernelspec": {
      "name": "python3",
      "display_name": "Python 3"
    },
    "language_info": {
      "name": "python"
    }
  },
  "cells": [
    {
      "cell_type": "markdown",
      "metadata": {
        "id": "view-in-github",
        "colab_type": "text"
      },
      "source": [
        "<a href=\"https://colab.research.google.com/github/sam2005-max/staysafe/blob/main/mymaincode.ipynb\" target=\"_parent\"><img src=\"https://colab.research.google.com/assets/colab-badge.svg\" alt=\"Open In Colab\"/></a>"
      ]
    },
    {
      "cell_type": "code",
      "source": [
        "import keras\n",
        "from keras.models import load_model\n",
        "import cv2\n",
        "import numpy as np\n"
      ],
      "metadata": {
        "id": "19m1h8ao0ir5"
      },
      "execution_count": 3,
      "outputs": []
    },
    {
      "cell_type": "code",
      "source": [],
      "metadata": {
        "id": "s1V_XezVON3M",
        "colab": {
          "base_uri": "https://localhost:8080/"
        },
        "outputId": "7f4fa9ff-8e6a-4811-e86a-f513f05bc643"
      },
      "execution_count": 4,
      "outputs": [
        {
          "output_type": "stream",
          "name": "stdout",
          "text": [
            "fatal: destination path 'wheat-disease-detection' already exists and is not an empty directory.\n"
          ]
        }
      ]
    },
    {
      "cell_type": "code",
      "source": [
        "model_path = '/content/wheat-disease-detection/wheatDiseaseModel.h5'\n",
        "model = load_model(model_path)\n"
      ],
      "metadata": {
        "id": "MhOx6EL91_ZD"
      },
      "execution_count": 5,
      "outputs": []
    },
    {
      "cell_type": "code",
      "source": [
        "image_path = \"/content/wheat-disease-detection/testCDD/crr_2.jpg\""
      ],
      "metadata": {
        "id": "VEOwWQEG3N2Z"
      },
      "execution_count": 21,
      "outputs": []
    },
    {
      "cell_type": "code",
      "source": [
        "img_size = 64\n",
        "\n",
        "image = cv2.imread(image_path)\n",
        "resized_image = cv2.resize(image, (img_size, img_size))"
      ],
      "metadata": {
        "id": "TaNKnEgo3nxh"
      },
      "execution_count": 22,
      "outputs": []
    },
    {
      "cell_type": "code",
      "source": [
        "resized_image = np.expand_dims(resized_image, axis=0)"
      ],
      "metadata": {
        "id": "ElPNS4L09BK4"
      },
      "execution_count": 23,
      "outputs": []
    },
    {
      "cell_type": "code",
      "source": [
        "resized_images = np.array(resized_image)\n",
        "\n",
        "resized_images = resized_images / 255.0"
      ],
      "metadata": {
        "id": "0ohQ-BC07SWc"
      },
      "execution_count": 24,
      "outputs": []
    },
    {
      "cell_type": "markdown",
      "source": [
        "Crown root rot - 0010, Healthy - 0001, Leaf rust - 1000, Loose smut - 0100\n"
      ],
      "metadata": {
        "id": "6vmSouv_92vZ"
      }
    },
    {
      "cell_type": "code",
      "source": [
        "model.predict(resized_image)"
      ],
      "metadata": {
        "colab": {
          "base_uri": "https://localhost:8080/"
        },
        "id": "9hwhTrjr2EXh",
        "outputId": "890cdb33-983d-44b9-bf29-33bf876f26a5"
      },
      "execution_count": 25,
      "outputs": [
        {
          "output_type": "stream",
          "name": "stdout",
          "text": [
            "1/1 [==============================] - 0s 25ms/step\n"
          ]
        },
        {
          "output_type": "execute_result",
          "data": {
            "text/plain": [
              "array([[0., 0., 1., 0.]], dtype=float32)"
            ]
          },
          "metadata": {},
          "execution_count": 25
        }
      ]
    },
    {
      "cell_type": "code",
      "source": [],
      "metadata": {
        "id": "QNq8qEHS3Sde"
      },
      "execution_count": null,
      "outputs": []
    }
  ]
}